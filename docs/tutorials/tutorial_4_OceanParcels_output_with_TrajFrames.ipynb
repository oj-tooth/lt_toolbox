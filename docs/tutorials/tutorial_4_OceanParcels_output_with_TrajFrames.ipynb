{
 "cells": [
  {
   "cell_type": "markdown",
   "metadata": {},
   "source": [
    "# **LT Toolbox Tutorial: 4. Ocean Parcels output with Trajectory Frames**\n",
    "\n",
    "Welcome to the Lagrangian Trajectories Toolbox tutorial! \n",
    "\n",
    "The LT Toolbox is a Python library dedicated to the post-processing, visualisation and analysis of Lagrangian water parcel trajectories. The toolbox offers users two structures for working with Lagrangian trajectories: Trajectory Arrays (TrajArrays) and Trajectory Frames (TrajFrames). In this tutorial, we continue exploring TrajFrames, which make use of [polars](http://pola.rs) blazingly fast DataFrames to store column variables associated with trajectories (e.g. lat, lon, in-situ temperature etc.).\n",
    "\n",
    "In this tutorial, we will learn how to:\n",
    "\n",
    "+ **Store** Lagrangian trajectory output from Ocean Parcels (variables are contained in an NCEI compliant 2-dimensional array stored in .zarr store) in an eager TrajFrame using xarray.\n",
    "\n",
    "+ **Convert** larger-than-memory Ocean Parcels .zarr output to a multifile .parquet store which can be used as the source for a lazy TrajFrame.\n",
    "\n",
    "To learn about the basics of working with TrajFrames, including simple filtering and using datetimes, users should see **LT Toolbox Tutorial: 2. Getting Started with Trajectory Frames**.\n"
   ]
  },
  {
   "cell_type": "markdown",
   "metadata": {},
   "source": []
  }
 ],
 "metadata": {
  "language_info": {
   "name": "python"
  }
 },
 "nbformat": 4,
 "nbformat_minor": 2
}
