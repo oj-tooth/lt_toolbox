{
 "cells": [
  {
   "cell_type": "markdown",
   "metadata": {},
   "source": [
    "# **LT Toolbox Tutorial: 3. Advanced Analysis with Trajectory Frames**\n",
    "\n",
    "Welcome to the Lagrangian Trajectories Toolbox tutorial! \n",
    "\n",
    "The LT Toolbox is a Python library dedicated to the post-processing, visualisation and analysis of Lagrangian water parcel trajectories. The toolbox offers users two structures for working with Lagrangian trajectories: Trajectory Arrays (TrajArrays) and Trajectory Frames (TrajFrames). In this tutorial, we continue exploring TrajFrames, which make use of [polars](http://pola.rs) blazingly fast DataFrames to store column variables associated with trajectories (e.g. lat, lon, in-situ temperature etc.).\n",
    "\n",
    "In this advanced tutorial, we will learn how to:\n",
    "\n",
    "+ **Add** new variables using the polars expressions syntax to your TrajFrame.\n",
    "\n",
    "+ **Filter** trajectories using a polygon defined in longitude-latitude coordinates.\n",
    "\n",
    "+ **Compute** binned statistics, such as the Lagrangian probability, and grouped statistics, such as meridional heat transport, from Lagrangian trajectories.\n",
    "\n",
    "+ **Map** probabilities and properties determined from Lagrangian trajectories.\n",
    "\n",
    "To learn about the basics of working with TrajFrames, including simple filtering and using datetimes, users should see **LT Toolbox Tutorial: 2. Getting Started with Trajectory Frames**.\n"
   ]
  },
  {
   "cell_type": "markdown",
   "metadata": {},
   "source": []
  }
 ],
 "metadata": {
  "language_info": {
   "name": "python"
  }
 },
 "nbformat": 4,
 "nbformat_minor": 2
}
