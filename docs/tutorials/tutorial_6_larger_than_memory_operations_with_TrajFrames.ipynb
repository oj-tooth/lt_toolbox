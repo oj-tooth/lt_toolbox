{
 "cells": [
  {
   "cell_type": "markdown",
   "metadata": {},
   "source": [
    "# **LT Toolbox Tutorial: 6. Larger-than-Memory Analysis Trajectory Frames**\n",
    "\n",
    "Welcome to the Lagrangian Trajectories Toolbox tutorial! \n",
    "\n",
    "The LT Toolbox is a Python library dedicated to the post-processing, visualisation and analysis of Lagrangian water parcel trajectories. The toolbox offers users two structures for working with Lagrangian trajectories: Trajectory Arrays (TrajArrays) and Trajectory Frames (TrajFrames). In this tutorial, we explore lazy TrajFrames, which make use of lazyframes and query execution in the [polars](http://pola.rs) blazingly fast DataFrame library.\n",
    "\n",
    "In this advanced tutorial, we will learn how to:\n",
    "\n",
    "+ **Store** the output of an example simulation of the [TRACMASS](https://tracmass.readthedocs.io/en/latest/) Lagrangian trajectory code in a lazy TrajFrame.\n",
    "\n",
    "+ **Filter** trajectories using any column variable contained in your lazy TrajFrame.\n",
    "\n",
    "+ **Compute** Lagrangian probability distributions and access results in the .summary_data attribute.\n",
    "\n",
    "+ **Plot** a sub-sample of Lagrangian trajectories on a map.\n",
    "\n",
    "To learn about more advanced filtering, computation and plotting with TrajFrames, users should see **LT Toolbox Tutorial: 3. Advanced Analysis with Trajectory Frames**.\n"
   ]
  }
 ],
 "metadata": {
  "language_info": {
   "name": "python"
  }
 },
 "nbformat": 4,
 "nbformat_minor": 2
}
