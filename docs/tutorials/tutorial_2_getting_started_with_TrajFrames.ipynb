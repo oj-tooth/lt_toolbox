{
 "cells": [
  {
   "cell_type": "markdown",
   "metadata": {},
   "source": [
    "# **LT Toolbox Tutorial: 2. Getting Started with Trajectory Frames**\n",
    "\n",
    "Welcome to the Lagrangian Trajectories Toolbox tutorial! \n",
    "\n",
    "The LT Toolbox is a Python library dedicated to the post-processing, visualisation and analysis of Lagrangian water parcel trajectories. The toolbox offers users two structures for working with Lagrangian trajectories: Trajectory Arrays (TrajArrays) and Trajectory Frames (TrajFrames). In this tutorial, we explore TrajFrames, which make use of [polars](http://pola.rs) blazingly fast DataFrames to store column variables associated with trajectories (e.g. lat, lon, in-situ temperature etc.).\n",
    "\n",
    "In this first tutorial, we will learn how to:\n",
    "\n",
    "+ **Store** the output of an example simulation of the [TRACMASS](https://tracmass.readthedocs.io/en/latest/) Lagrangian trajectory code in a TrajFrame object.\n",
    "\n",
    "+ **Add** new variables, such as potential density recorded along-stream, to your TrajFrame.\n",
    "\n",
    "+ **Filter** trajectories using any column variable contained in your TrajFrame.\n",
    "\n",
    "+ **Get** existing features, including trajectory start/end times, start/end locations and durations.\n",
    "\n",
    "+ **Compute** metrics, such as distance travelled and velocities from trajectories.\n",
    "\n",
    "+ **Plot** trajectories and properties in the form of maps and time series.\n",
    "\n",
    "To learn about more advanced filtering, computation and plotting with TrajFrames, users should see **LT Toolbox Tutorial: 3. Advanced Analysis with Trajectory Frames**.\n"
   ]
  }
 ],
 "metadata": {
  "language_info": {
   "name": "python"
  }
 },
 "nbformat": 4,
 "nbformat_minor": 2
}
