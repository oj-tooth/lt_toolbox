{
 "cells": [
  {
   "cell_type": "markdown",
   "metadata": {},
   "source": [
    "# LT Toolbox Tutorial\n",
    "\n",
    "Welcome to the Lagrangian Trajectories Toolbox tutorial! \n",
    "\n",
    "The LT Toolbox is a python library dedicated to the post-processing, visualisation and analysis of Lagrangian water parcel trajectories. The toolbox makes use of [xarray](http://xarray.pydata.org/en/stable/#) multidimensional data arrays to store attribute variables associated with trajectories (e.g. lat, lon, in-situ temperature etc.).\n",
    "\n",
    "In this tutorial, we will show how to:\n",
    "\n",
    "+ **Store** the output of an example simulation of the [TRACMASS](https://tracmass.readthedocs.io/en/latest/) Lagrangian trajectory code in a trajectories object.\n",
    "\n",
    "+ **Add** new variables, such as particle IDs and seeding levels, to your dataset.\n",
    "\n",
    "+ **Filter** trajectories using any attribute variable contained in your dataset.\n",
    "\n",
    "+ **Get** existing features, including trajectory start/end times, start/end locations and durations.\n",
    "\n",
    "+ **Compute** metrics, such as distance travelled, particle displacements and the Lagrangian velocities from trajectories.\n",
    "\n",
    "+ **Plot** trajectory data in the form of time series, temperature-salinity diagrams and more.\n",
    "\n",
    "+ **Map** trajectories, properties and probability distributions onto the Earth's surface using [Cartopy](https://tracmass.readthedocs.io/en/latest/)."
   ]
  },
  {
   "cell_type": "markdown",
   "metadata": {},
   "source": [
    "## Getting Started\n",
    "\n",
    "Let us begin by importing the relevant packages we'll need to get started with the LT Toolbox. \n",
    "\n",
    "**Note**: Since lt_toolbox is still undergoing unit testing, the package is not yet available on PyPi, hence we use a local development version."
   ]
  },
  {
   "cell_type": "code",
   "execution_count": null,
   "metadata": {},
   "outputs": [],
   "source": [
    "import xarray as xr\n",
    "import numpy as np\n",
    "\n",
    "# Navigating to the local development version of lt_toolbox.\n",
    "%cd /Users/ollietooth/Desktop/D.Phil./lt_toolbox/\n",
    "\n",
    "from lt_toolbox.trajectories import trajectories\n",
    "from lt_toolbox.compute_utils import haversine_dist"
   ]
  },
  {
   "cell_type": "markdown",
   "metadata": {},
   "source": [
    "### Storing Trajectory Data\n",
    "\n",
    "To explore the functionality of the LT Toolbox, we will use output from the example NEMO ORCA1 (3D) simulation contained in the TRACMASS [documentation](https://tracmass.readthedocs.io/en/latest/Examples.html). \n",
    "\n",
    "The simulation uses monthly mean velocity fields (24 months continuously looped over to generate a 200 year simulation) and releases particles southward from \\~68 N for the first 24 months (seeding levels). Particles are terminated on reaching the equator or on re-encountering the seeding plane (\\~ 68 N). The maximum lifetime for trajectories in the simulation is 200 years.\n",
    "\n",
    "TRACMASS outputs trajectories in .csv files, so we first used the export_tracmass_to_nc.py file to reformat the output data into a .nc file conforming to the standard NCEI trajectory [template](https://www.nodc.noaa.gov/data/formats/netcdf/v2.0/trajectoryIncomplete.cdl).\n",
    "\n",
    "Below we load the resulting .nc file as a DataSet with xarray, before creating a trajectories object, traj."
   ]
  },
  {
   "cell_type": "code",
   "execution_count": null,
   "metadata": {},
   "outputs": [],
   "source": [
    "# Navigate to the directory where the ORCA1 output data is stored.\n",
    "%cd /Users/ollietooth/Desktop/D.Phil./lt_toolbox/lt_toolbox/\n",
    "\n",
    "# Open output .nc file as a DataSet.\n",
    "dataset = xr.open_dataset('ORCA1-N406_TRACMASS_complete.nc')\n",
    "\n",
    "# Create a trajectories object from the DataSet.\n",
    "traj = trajectories(dataset)"
   ]
  },
  {
   "cell_type": "markdown",
   "metadata": {},
   "source": [
    "**What is a trajectories object?**\n",
    "\n",
    "The trajectories object, traj, hosts the original xarray DataSet accessible as an attribute with traj.data. \n",
    "\n",
    "For improved functionality, attribute variables (data variables stored in our DataSet) are made accessible with traj.{variable} to access a given {variable}.\n",
    "\n",
    "The true value of a trajectories object comes with the use of the built-in functions specifically designed for post-processing, visualisation and analysis of Lagrangain water parcel trajectories."
   ]
  },
  {
   "cell_type": "markdown",
   "metadata": {},
   "source": [
    "### Exploring our trajectories object\n",
    "\n",
    "By accessing the .data attribute of our trajectories object above, we can see that attribute variables are formatted with dimensions **traj** (trajectory) and **obs** (observation - represents one time-level).\n",
    "\n",
    "**Note**: Since trajectories are of differing lengths, missing **obs** values for a given **traj** are filled as NaNs or NaTs (time)."
   ]
  },
  {
   "cell_type": "code",
   "execution_count": null,
   "metadata": {},
   "outputs": [],
   "source": [
    "# To return details of our original DataSet.\n",
    "print(traj.data)\n",
    "\n",
    "# To access the temp attribute variable.\n",
    "print(traj.trajectory)\n",
    "\n",
    "# Using datetime64 format for time instead of timedelta64.\n",
    "# Start date of simulation is 2000-01-01\n",
    "traj = traj.use_datetime('2000-01-01')"
   ]
  },
  {
   "cell_type": "markdown",
   "metadata": {},
   "source": [
    "### Adding new attribute variables to our trajectories object.\n",
    "\n",
    "To add a new attribute variable to a trajectories object, including appending it to the original DataSet, use the **.add_variable()** method. \n",
    "\n",
    "Two common attribute variables which a user may wish to add to their trajectories object, a unique trajectory id and the seeding level when a particles are released are included as seperate methods: **.add_id()** and **.add_seed()**."
   ]
  },
  {
   "cell_type": "code",
   "execution_count": null,
   "metadata": {},
   "outputs": [],
   "source": [
    "# Suppose we would like to add the id and seeding level of all of our\n",
    "# particles for future analysis. \n",
    "\n",
    "# We can combine methods on a single line to return both.\n",
    "traj = traj.add_id().add_seed()\n",
    "\n",
    "# Let's look at our new attribute variables.\n",
    "print(traj.id)\n",
    "print(traj.seed_level)"
   ]
  },
  {
   "cell_type": "code",
   "execution_count": null,
   "metadata": {},
   "outputs": [],
   "source": [
    "# Consider now if we wanted to create a new attribute variable, temp_K,\n",
    "# to store the in-situ temperature in Kelvin. \n",
    "\n",
    "# Using .values to access the numpy array storing the values of temp.\n",
    "temp_k = traj.temp.values + 273.15\n",
    "\n",
    "# Dictionary of attributes of our new variable.\n",
    "attrs = {'long_name': 'in-situ temperature in Kelvin',\n",
    "         'standard_name': 'temp_K',\n",
    "         'units': 'Kelvin'\n",
    "        }\n",
    "\n",
    "# Add temp_k as a new attribute variable to our trajectories object.\n",
    "traj = traj.add_variable(temp_k, attrs)\n",
    "\n",
    "# Let's see if temp_K has been added!\n",
    "print(traj.temp_K)"
   ]
  },
  {
   "cell_type": "markdown",
   "metadata": {},
   "source": [
    "### Filtering trajectories using an attribute variable.\n",
    "\n",
    "Filtering our trajectories to include only those complete trajectories where a specific criteria is met is integral to Lagrangian analysis. \n",
    "\n",
    "The LT Toolbox includes two fully vectorised methods **.filter_between()** and **filter_equal()** to allow users to filter on any attribute variable conatined in their trajectories object."
   ]
  },
  {
   "cell_type": "code",
   "execution_count": null,
   "metadata": {},
   "outputs": [],
   "source": [
    "# Filtering all our trajectories to include only those released in \n",
    "# seeding level 1 and storing as a new trajectories object, traj_seed1.\n",
    "traj_seed1 = traj.filter_equal('seed_level', 1, drop=False)\n",
    "\n",
    "# Let's look at the data in traj_seed1 - only 864 particles were\n",
    "# released in seeding level 1.\n",
    "print(traj_seed1.data)"
   ]
  },
  {
   "cell_type": "code",
   "execution_count": null,
   "metadata": {},
   "outputs": [],
   "source": [
    "# Filtering all our trajectories to include only those which travel \n",
    "# between 0 N - 25 N and storing as a new trajectories object, \n",
    "# traj_sublat.\n",
    "traj_sublat = traj.filter_between('lat', 0, 25, drop=False)\n",
    "\n",
    "# Let's look at the data in traj_sublat - only 560 particles were\n",
    "# found between 0-25 N at any time during their trajectories.\n",
    "print(traj_sublat.data)"
   ]
  },
  {
   "cell_type": "markdown",
   "metadata": {},
   "source": [
    "### Filtering trajectories by time - A Special Case\n",
    "\n",
    "It should be noted that when filter methods are called with a time attribute variable, rather than return complete trajectories, only the observations (**obs**) meeting the specified criteria are returned. "
   ]
  },
  {
   "cell_type": "code",
   "execution_count": null,
   "metadata": {},
   "outputs": [],
   "source": [
    "# Defining the min and maximum time levels to return obs for.\n",
    "tmin = np.datetime64('2000-01-31')\n",
    "tmax = np.datetime64('2000-03-01')\n",
    "\n",
    "# Filtering between tmin and tmax, the values tmin and tmax are\n",
    "# included, and storing as a new trajectories object, traj_subtime.\n",
    "traj_subtime = traj.filter_between('time', tmin, tmax, drop=False)\n",
    "\n",
    "# Let's look at the data in traj_subtime - only 4 (116) obs are \n",
    "# included as expected.\n",
    "print(traj_subtime.data.time)"
   ]
  },
  {
   "cell_type": "code",
   "execution_count": null,
   "metadata": {},
   "outputs": [],
   "source": [
    "# Defining the time level to return obs for.\n",
    "tval = np.datetime64('2000-03-01')\n",
    "\n",
    "# Filtering tval and storing as a new trajectories object,\n",
    "# traj_subtime.\n",
    "traj_subtime = traj.filter_equal('time', tval, drop=False)\n",
    "\n",
    "# Let's look at the data in traj_subtime - only 1 (119) obs is \n",
    "# included as expected.\n",
    "print(traj_subtime.data.time)"
   ]
  },
  {
   "cell_type": "markdown",
   "metadata": {},
   "source": [
    "### Getting existing features from a trajectories object.\n",
    "\n",
    "The LT Toolbox includes a range of .get_ methods to extract important features from existing attribute variables in a trajectories object. "
   ]
  },
  {
   "cell_type": "code",
   "execution_count": null,
   "metadata": {},
   "outputs": [],
   "source": [
    "# Get the times and locations when particle are released. \n",
    "traj = traj.get_start_time().get_start_loc()\n",
    "\n",
    "# Get the times and locations when particles are terminated.\n",
    "traj = traj.get_end_time().get_end_loc()\n"
   ]
  },
  {
   "cell_type": "code",
   "execution_count": null,
   "metadata": {},
   "outputs": [],
   "source": [
    "# Get the maximum value of the temp variable for each trajectory. \n",
    "traj = traj.get_max('temp')\n",
    "\n",
    "# Get the minimum value of the temp variable for each trajectory. \n",
    "traj = traj.get_min('temp')\n",
    "\n",
    "# Get the value of the temp variable for each trajectory on 2000-01-01. \n",
    "traj = traj.get_value('temp', '2000-01-01')\n"
   ]
  },
  {
   "cell_type": "code",
   "execution_count": null,
   "metadata": {},
   "outputs": [],
   "source": [
    "# Get the duration of each trajectory, t_total. \n",
    "traj = traj.get_duration()\n",
    "\n",
    "# Let's look at the data in traj.\n",
    "print(traj.data)"
   ]
  },
  {
   "cell_type": "markdown",
   "metadata": {},
   "source": [
    "### Computing diagnostic metrics for trajectories.\n",
    "\n",
    "Computation is a further important feature of the toolbox.\n",
    "\n",
    "In particular, there are .compute methods available to compute the distance travelled by particles along their trajectories, particle displacements (zonal/meridional/vertical) and Lagrangian velocities (zonal/meridional/vertical).\n",
    "\n",
    "Below we show how to combine **filter**, **compute** and **plot** methods to efficiently generate visualisations of output data."
   ]
  },
  {
   "cell_type": "code",
   "execution_count": null,
   "metadata": {},
   "outputs": [],
   "source": [
    "# Creating a time series plot of the meridional displacement travelled \n",
    "# by the first 10 particles in our ORCA1 output data.\n",
    "traj.filter_between('traj', 0, 9).compute_dy().plot_timeseries('temp', 1)"
   ]
  },
  {
   "cell_type": "code",
   "execution_count": null,
   "metadata": {},
   "outputs": [],
   "source": [
    "# Creating a time series plot of the meridional velocity travelled by \n",
    "# the first 10 particles in our ORCA1 output data.\n",
    "traj.filter_between('traj', 0, 9).compute_v().plot_timeseries('v')"
   ]
  },
  {
   "cell_type": "markdown",
   "metadata": {},
   "source": [
    "### Further plotting of seawater properties.\n",
    "\n",
    "Another useful plot for examining the water mass properties of a given trajectory is the temperature-salinity (t-s) diagram. \n",
    "\n",
    "We can very easily produce a t-s diagram with the LT Toolbox using the **.plot_ts_diagram** method."
   ]
  },
  {
   "cell_type": "code",
   "execution_count": null,
   "metadata": {},
   "outputs": [],
   "source": [
    "# Creating a t-s plot for the particles released between 2000-4000m\n",
    "# in seeding level 1 and colouring by the particle longitude of \n",
    "# release.\n",
    "traj.filter_equal('seed_level', 1).filter_between('z', -4000, -2000).plot_ts_diagram(col_variable='lon')"
   ]
  },
  {
   "cell_type": "code",
   "execution_count": null,
   "metadata": {},
   "outputs": [],
   "source": [
    "# Plotting temperature of the particles released at the\n",
    "# first seeding level on 2000-03-01 (3rd time level).\n",
    "traj.plot_variable('temp', 'xz', 1, '2000-03-01')"
   ]
  },
  {
   "cell_type": "markdown",
   "metadata": {},
   "source": [
    "### Mapping trajectories and probability distributions with Cartopy.\n",
    "\n",
    "The LT Toolbox utilises the highly adaptable Cartopy geospatial visualisation package to map trajectories and their properties on the Earth's surface. \n",
    "\n",
    "Below we show how to use **.map_trajectories**, **.map_probability()** and **.map_property()** methods when anaysing trajectory output data."
   ]
  },
  {
   "cell_type": "code",
   "execution_count": null,
   "metadata": {},
   "outputs": [],
   "source": [
    "# Creating a map of trajectories released during the first seeding \n",
    "# levels (Jan - March).\n",
    "traj.filter_equal('seed_level', 2).map_trajectories()"
   ]
  },
  {
   "cell_type": "code",
   "execution_count": null,
   "metadata": {},
   "outputs": [],
   "source": [
    "# Creating a map of the trajectories of the first 20 particles released,\n",
    "# coloured by the in-situ temperature.\n",
    "traj.filter_between('traj', 0, 19).map_trajectories(col_variable='temp')"
   ]
  },
  {
   "cell_type": "code",
   "execution_count": null,
   "metadata": {},
   "outputs": [],
   "source": [
    "# Creating a map of the binned probability of particle pathways.\n",
    "traj.map_probability(bin_res=1, prob_type='traj', cmap='viridis')"
   ]
  },
  {
   "cell_type": "code",
   "execution_count": null,
   "metadata": {},
   "outputs": [],
   "source": [
    "# Creating a map of the binned probability of particle positions.\n",
    "traj.map_probability(bin_res=1, prob_type='pos', cmap='viridis')"
   ]
  },
  {
   "cell_type": "code",
   "execution_count": null,
   "metadata": {},
   "outputs": [],
   "source": [
    "# Creating a map of the binned mean temperature of particles.\n",
    "traj.map_property(bin_res=1, variable='temp', statistic='mean')"
   ]
  },
  {
   "cell_type": "code",
   "execution_count": null,
   "metadata": {},
   "outputs": [],
   "source": []
  }
 ],
 "metadata": {
  "kernelspec": {
   "display_name": "Tracmass",
   "language": "python",
   "name": "tracmass"
  },
  "language_info": {
   "codemirror_mode": {
    "name": "ipython",
    "version": 3
   },
   "file_extension": ".py",
   "mimetype": "text/x-python",
   "name": "python",
   "nbconvert_exporter": "python",
   "pygments_lexer": "ipython3",
   "version": "3.8.5"
  }
 },
 "nbformat": 4,
 "nbformat_minor": 4
}
