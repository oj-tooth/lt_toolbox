{
 "cells": [
  {
   "attachments": {},
   "cell_type": "markdown",
   "metadata": {},
   "source": [
    "# LT Toolbox: Application of Trajectory Arrays to MITgcm trajectories evaluated in the Irminger Sea\n",
    "\n",
    "Welcome to the Lagrangian Trajectories Toolbox tutorial! \n",
    "\n",
    "The LT Toolbox is a Python library dedicated to the post-processing, visualisation and analysis of Lagrangian water parcel trajectories. The toolbox offers users two structures for working with Lagrangian trajectories: Trajectory Arrays (TrajArrays) and Trajectory Frames (TrajFrames). In this tutorial, we explore TrajArrays, which make use of [xarray](http://xarray.pydata.org/en/stable/#) multidimensional DataArrays to store attribute variables associated with trajectories (e.g. lat, lon, in-situ temperature etc.).\n",
    "\n",
    "In this tutorial, we will show how to:\n",
    "\n",
    "+ **Store** the output of an example collection of MITgcm Lagrangian trajectory code in a TrajArray object.\n",
    "\n",
    "+ **Add** new variables, such as particle IDs and seeding levels, to your dataset.\n",
    "\n",
    "+ **Filter** trajectories using any attribute variable contained in your dataset.\n",
    "\n",
    "+ **Get** existing features, including trajectory start/end times, start/end locations and durations.\n",
    "\n",
    "+ **Compute** metrics, such as distance travelled, particle displacements, velocities and Lagrangian probabilities from trajectories.\n",
    "\n",
    "+ **Plot** trajectory data in the form of time series, temperature-salinity diagrams and more.\n",
    "\n",
    "+ **Map** trajectories, properties and probability distributions onto the Earth's surface using [Cartopy](https://tracmass.readthedocs.io/en/latest/)."
   ]
  },
  {
   "attachments": {},
   "cell_type": "markdown",
   "metadata": {},
   "source": [
    "## Getting Started\n",
    "\n",
    "Let us begin by importing the relevant packages we'll need to get started with the LT Toolbox. \n",
    "\n",
    "**Note**: Since lt_toolbox is still undergoing unit testing, the package is not yet available on PyPi, hence we use a local development version."
   ]
  },
  {
   "cell_type": "code",
   "execution_count": null,
   "metadata": {},
   "outputs": [],
   "source": [
    "import sys\n",
    "import xarray as xr\n",
    "import numpy as np\n",
    "import matplotlib.pyplot as plt\n",
    "\n",
    "# Navigating to the local development version of lt_toolbox.\n",
    "sys.path.append(\"/home/snapdragon/HadGEM3-GC31-MM/Proj_Future_Pathways/src/Software/lt_toolbox/\")\n",
    "\n",
    "import lt_toolbox as ltt"
   ]
  },
  {
   "attachments": {},
   "cell_type": "markdown",
   "metadata": {},
   "source": [
    "### Storing Trajectory Data\n",
    "\n",
    "To explore the functionality of the LT Toolbox, we will use output from the example MITgcm simulation of Lagrangian trajectories advected forwards-in-time from the northward inflows to the upper 1000 m of the Irminger Sea.\n",
    "\n",
    "MITgcm trajectory output is provided in .mat files, so we first use Export_MITgcm_Lagrangian_trajectories_to_zarr.ipynb to reformat the output data into a .nc file conforming to the standard NCEI trajectory [template](https://www.nodc.noaa.gov/data/formats/netcdf/v2.0/trajectoryIncomplete.cdl).\n",
    "\n",
    "Below we load the resulting .nc file as a DataSet with xarray, before creating a TrajArray, traj."
   ]
  },
  {
   "cell_type": "code",
   "execution_count": null,
   "metadata": {},
   "outputs": [],
   "source": [
    "# Navigate to the directory where the ORCA1 output data is stored.\n",
    "trajDir = \"/home/snapdragon/HadGEM3-GC31-MM/Proj_Future_Pathways/src/Software/lt_toolbox/tutorials/data/\"\n",
    "trajFilename = \"MITgcm_2km_upper_1000m_example_traj.zarr\"\n",
    "\n",
    "# Open output .nc file as a DataSet.\n",
    "dataset = xr.open_zarr(trajDir + trajFilename, chunks=None)\n",
    "# Modify time variable to be in hours from day fraction:\n",
    "dataset['time'].values = dataset['time'].values * (24)\n",
    "\n",
    "# Create a TrajArray from the DataSet.\n",
    "traj = ltt.TrajArray(dataset)"
   ]
  },
  {
   "attachments": {},
   "cell_type": "markdown",
   "metadata": {},
   "source": [
    "**What is a TrajArray?**\n",
    "\n",
    "The TrajArray, traj, hosts the original xarray DataSet accessible as an attribute with traj.data. \n",
    "\n",
    "For improved functionality, attribute variables (data variables stored in our DataSet) are made accessible with traj.{variable} to access a given {variable}.\n",
    "\n",
    "The true value of a trajectories object comes with the use of the built-in functions specifically designed for post-processing, visualisation and analysis of Lagrangain water parcel trajectories."
   ]
  },
  {
   "attachments": {},
   "cell_type": "markdown",
   "metadata": {},
   "source": [
    "### Exploring our TrajArray\n",
    "\n",
    "By accessing the .data attribute of our TrajArray above, we can see that attribute variables are formatted with dimensions **traj** (trajectory) and **obs** (observation - represents one time-level).\n",
    "\n",
    "**Note**: Since trajectories are of differing lengths, missing **obs** values for a given **traj** are filled as NaNs or NaTs (time)."
   ]
  },
  {
   "cell_type": "code",
   "execution_count": null,
   "metadata": {},
   "outputs": [],
   "source": [
    "# To return details of our original DataSet.\n",
    "print(traj)\n",
    "\n",
    "# To access the temp attribute variable.\n",
    "print(traj.temp)\n",
    "\n",
    "# Using datetime64 format for time instead of timedelta64.\n",
    "# Start date of simulation is 2007-01-01\n",
    "traj = traj.use_datetime('2007-01-01', 'h')\n"
   ]
  },
  {
   "attachments": {},
   "cell_type": "markdown",
   "metadata": {},
   "source": [
    "### Adding new attribute variables to our TrajArray.\n",
    "\n",
    "To add a new attribute variable to a TrajArray, including appending it to the original DataSet, use the **.add_variable()** method. \n",
    "\n",
    "Two common attribute variables which a user may wish to add to their TrajArray, a unique trajectory id and the seeding level when a particles are released are included as seperate methods: **.add_id()** and **.add_seed()**."
   ]
  },
  {
   "cell_type": "code",
   "execution_count": null,
   "metadata": {},
   "outputs": [],
   "source": [
    "# Suppose we would like to add the id and seeding level of all of our\n",
    "# particles for future analysis. \n",
    "\n",
    "# We can combine methods on a single line to return both.\n",
    "traj = traj.add_id().add_seed()\n",
    "\n",
    "# Let's look at our new attribute variables.\n",
    "print(traj.id)\n",
    "print(traj.seed_level)"
   ]
  },
  {
   "cell_type": "code",
   "execution_count": null,
   "metadata": {},
   "outputs": [],
   "source": [
    "# Consider now if we wanted to create a new attribute variable, temp_K,\n",
    "# to store the in-situ temperature in Kelvin. \n",
    "\n",
    "# Using .values to access the numpy array storing the values of temp.\n",
    "temp_k = traj.temp.values + 273.15\n",
    "\n",
    "# Dictionary of attributes of our new variable.\n",
    "attrs = {'long_name': 'in-situ temperature in Kelvin',\n",
    "         'standard_name': 'temp_K',\n",
    "         'units': 'Kelvin'\n",
    "        }\n",
    "\n",
    "# Add temp_k as a new attribute variable to our trajectories object.\n",
    "traj = traj.add_variable(temp_k, attrs)\n",
    "\n",
    "# Let's see if temp_K has been added!\n",
    "print(traj.temp_K)"
   ]
  },
  {
   "attachments": {},
   "cell_type": "markdown",
   "metadata": {},
   "source": [
    "### Filtering trajectories using an attribute variable.\n",
    "\n",
    "Filtering our trajectories to include only those complete trajectories where a specific criteria is met is integral to Lagrangian analysis. \n",
    "\n",
    "The LT Toolbox includes two fully vectorised methods **.filter_between()** and **filter_equal()** to allow users to filter on any attribute variable conatined in their TrajArray."
   ]
  },
  {
   "cell_type": "code",
   "execution_count": null,
   "metadata": {},
   "outputs": [],
   "source": [
    "# Filtering all our trajectories to include only those released in \n",
    "# seeding level 1 and storing as a new trajectories object, traj_seed1.\n",
    "traj_seed1 = traj.filter(query='seed_level == 1', drop=False)\n",
    "\n",
    "# Let's look at traj_seed1 - 880 particles were\n",
    "# released in seeding level 1.\n",
    "print(traj_seed1)"
   ]
  },
  {
   "cell_type": "code",
   "execution_count": null,
   "metadata": {},
   "outputs": [],
   "source": [
    "# Filtering all our trajectories to include only those which travel \n",
    "# between 63 N - 68 N and storing as a new TrajArray, \n",
    "# traj_sublat.\n",
    "traj_sublat = traj.filter_between('lat', 63, 69, drop=False)\n",
    "\n",
    "# Let's look at traj_sublat - only 560 particles were\n",
    "# found between 63-69 N at any time during their trajectories.\n",
    "print(traj_sublat)"
   ]
  },
  {
   "cell_type": "code",
   "execution_count": null,
   "metadata": {},
   "outputs": [],
   "source": [
    "# Filtering all of our trajectories according to the unique IDs\n",
    "# contained in a given list:\n",
    "print(traj.filter_isin('id', [10, 20, 30, 55, 98, 129], drop=False))"
   ]
  },
  {
   "attachments": {},
   "cell_type": "markdown",
   "metadata": {},
   "source": [
    "### Filtering trajectories by time - A Special Case\n",
    "\n",
    "It should be noted that when filter methods are called with a time attribute variable, rather than return complete trajectories, only the observations (**obs**) meeting the specified criteria are returned. "
   ]
  },
  {
   "cell_type": "code",
   "execution_count": null,
   "metadata": {},
   "outputs": [],
   "source": [
    "# Defining the min and maximum time levels to return obs for.\n",
    "tmin = '2007-01-31'\n",
    "tmax = '2007-03-31'\n",
    "\n",
    "# Filtering between tmin and tmax, the values tmin and tmax are\n",
    "# included, and storing as a new TrajArray, traj_subtime.\n",
    "traj_subtime = traj.filter_between('time', tmin, tmax)\n",
    "\n",
    "# Let's look at traj_subtime - only 237 obs are \n",
    "# included as expected.\n",
    "print(traj_subtime)"
   ]
  },
  {
   "attachments": {},
   "cell_type": "markdown",
   "metadata": {},
   "source": [
    "### Filtering trajectories which intersect a polygon."
   ]
  },
  {
   "cell_type": "code",
   "execution_count": null,
   "metadata": {},
   "outputs": [],
   "source": [
    "# Defining square as a list of (Lat, Lon) tuples storing the coordinates\n",
    "# of the polygon boundary.\n",
    "square = [[[-47, 58], [-47, 63], [-40, 63], [-40, 58], [-47, 58]]]\n",
    "\n",
    "# Filtering all our trajectories to include only those which, at some \n",
    "# point in their life time intersect a simple polygon, square.\n",
    "traj_poly = traj.filter_polygon(polygon=square, method='pos', drop=False)\n",
    "\n",
    "# Let's look at the resulting TrajArray.\n",
    "print(traj_poly)"
   ]
  },
  {
   "cell_type": "code",
   "execution_count": null,
   "metadata": {},
   "outputs": [],
   "source": [
    "# Let's look at a map of the resulting trajectories. \n",
    "traj_poly.map_trajectories()"
   ]
  },
  {
   "attachments": {},
   "cell_type": "markdown",
   "metadata": {},
   "source": [
    "### Finding trajectory points that intersect a polygon."
   ]
  },
  {
   "cell_type": "code",
   "execution_count": null,
   "metadata": {},
   "outputs": [],
   "source": [
    "# Finding trajectory points which intersect a simple polygon, square.\n",
    "ind_poly = traj.find_polygon(square)\n",
    "\n",
    "# Let's look at the resulting indices returned in ind_poly.\n",
    "ind_poly"
   ]
  },
  {
   "attachments": {},
   "cell_type": "markdown",
   "metadata": {},
   "source": [
    "### Getting existing features from a TrajArray.\n",
    "\n",
    "The LT Toolbox includes a range of .get_ methods to extract important features from existing attribute variables in a TrajArray. "
   ]
  },
  {
   "cell_type": "code",
   "execution_count": null,
   "metadata": {},
   "outputs": [],
   "source": [
    "# Get the times and locations when particle are released. \n",
    "traj = traj.get_start_time().get_start_loc()\n",
    "\n",
    "# Get the times and locations when particles are terminated.\n",
    "traj = traj.get_end_time().get_end_loc()\n"
   ]
  },
  {
   "cell_type": "code",
   "execution_count": null,
   "metadata": {},
   "outputs": [],
   "source": [
    "# Get the maximum value of the temp variable for each trajectory. \n",
    "traj = traj.get_max('temp')\n",
    "\n",
    "# Get the minimum value of the temp variable for each trajectory. \n",
    "traj = traj.get_min('temp')\n",
    "\n",
    "# Get the value of the temp variable for each trajectory on 2007-06-01. \n",
    "traj = traj.get_value('temp', '2007-06-01')\n"
   ]
  },
  {
   "cell_type": "code",
   "execution_count": null,
   "metadata": {},
   "outputs": [],
   "source": [
    "# Get the duration of each trajectory, t_total. \n",
    "traj = traj.get_duration()\n",
    "\n",
    "# Let's look at traj.\n",
    "print(traj)"
   ]
  },
  {
   "attachments": {},
   "cell_type": "markdown",
   "metadata": {},
   "source": [
    "### Computing diagnostic metrics for trajectories.\n",
    "\n",
    "Computation is a further important feature of the toolbox.\n",
    "\n",
    "In particular, there are .compute methods available to compute the distance travelled by particles along their trajectories, particle displacements (zonal/meridional/vertical) and Lagrangian velocities (zonal/meridional/vertical).\n",
    "\n",
    "Below we show how to combine **filter**, **compute** and **plot** methods to efficiently generate visualisations of output data."
   ]
  },
  {
   "cell_type": "code",
   "execution_count": null,
   "metadata": {},
   "outputs": [],
   "source": [
    "# Creating a time series plot of the meridional displacement travelled \n",
    "# by the first 10 particles in our ORCA1 output data.\n",
    "traj.filter_between('id', 0, 4).compute_dy().plot_timeseries('dy')"
   ]
  },
  {
   "cell_type": "code",
   "execution_count": null,
   "metadata": {},
   "outputs": [],
   "source": [
    "# Creating a time series plot of the meridional velocity travelled by \n",
    "# the first particle in our MITgcm output data.\n",
    "traj.filter_between('id', 0, 2).compute_v().plot_timeseries('v')"
   ]
  },
  {
   "cell_type": "code",
   "execution_count": null,
   "metadata": {},
   "outputs": [],
   "source": [
    "# Plotting the corresponding trajectory coloured by along-stream potential temp:\n",
    "traj.filter_between('id', 0, 2).map_trajectories(col_variable='temp')"
   ]
  },
  {
   "attachments": {},
   "cell_type": "markdown",
   "metadata": {},
   "source": [
    "### Computing Lagrangian probability distributions."
   ]
  },
  {
   "cell_type": "code",
   "execution_count": null,
   "metadata": {},
   "outputs": [],
   "source": [
    "# Computing Lagrangian probability distribution for all trajectories\n",
    "# released in seed_level 1 using 1x1 degree bins.\n",
    "traj_prob = traj.filter('seed_level == 1', drop=False).compute_probability(bin_res=0.25, method='traj')\n",
    "\n",
    "# Let's look at traj_prob.\n",
    "print(traj_prob)"
   ]
  },
  {
   "cell_type": "code",
   "execution_count": null,
   "metadata": {},
   "outputs": [],
   "source": [
    "# Computing Lagrangian probability distribution for all trajectories\n",
    "# released in seed_levels 1 to 3 using 1x1 degree bins. \n",
    "traj_probs = traj.filter_between('seed_level', 1, 3).compute_probability(bin_res=0.25, method='pos')\n",
    "\n",
    "# Here the group_by function ensures that three seperate probability\n",
    "# distributions are computed.\n",
    "print(traj_probs)"
   ]
  },
  {
   "attachments": {},
   "cell_type": "markdown",
   "metadata": {},
   "source": [
    "### Further plotting of seawater properties.\n",
    "\n",
    "Another useful plot for examining the water mass properties of a given trajectory is the temperature-salinity (t-s) diagram. \n",
    "\n",
    "We can very easily produce a t-s diagram with the LT Toolbox using the **.plot_ts_diagram** method."
   ]
  },
  {
   "cell_type": "code",
   "execution_count": null,
   "metadata": {},
   "outputs": [],
   "source": [
    "# Creating a T-S plot for the particles initialised on 2007-01-01\n",
    "# and colouring by the longitude of initialisation.\n",
    "traj.filter('time == 2007-01-01').plot_ts_diagram(col_variable='lon')"
   ]
  },
  {
   "cell_type": "code",
   "execution_count": null,
   "metadata": {},
   "outputs": [],
   "source": [
    "# Plotting temperature of the particles initialised on\n",
    "# 2007-01-01 (seeding level = 1) in longitude-depth space.\n",
    "traj.plot_variable('temp', 'xz', 1, '2007-01-01')"
   ]
  },
  {
   "attachments": {},
   "cell_type": "markdown",
   "metadata": {},
   "source": [
    "### Mapping trajectories and probability distributions with Cartopy.\n",
    "\n",
    "The LT Toolbox utilises the highly adaptable Cartopy geospatial visualisation package to map trajectories and their properties on the Earth's surface. \n",
    "\n",
    "Below we show how to use **.map_trajectories**, **.map_probability()** and **.map_property()** methods when anaysing trajectory output data."
   ]
  },
  {
   "cell_type": "code",
   "execution_count": null,
   "metadata": {},
   "outputs": [],
   "source": [
    "# Creating a map of the trajectories of the first 20 particles released,\n",
    "# coloured by the in-situ temperature.\n",
    "traj.filter_between('id', 0, 5).map_trajectories(col_variable='temp')"
   ]
  },
  {
   "cell_type": "code",
   "execution_count": null,
   "metadata": {},
   "outputs": [],
   "source": [
    "# Creating a map of the binned probability of particle pathways.\n",
    "traj.map_probability(bin_res=0.25, prob_type='traj', cmap='viridis')"
   ]
  },
  {
   "cell_type": "code",
   "execution_count": null,
   "metadata": {},
   "outputs": [],
   "source": [
    "# Creating a map of the binned probability of particle positions.\n",
    "traj.map_probability(bin_res=0.25, prob_type='pos', cmap='viridis')"
   ]
  },
  {
   "cell_type": "code",
   "execution_count": null,
   "metadata": {},
   "outputs": [],
   "source": [
    "# Creating a map of the binned mean temperature of particles.\n",
    "traj.map_property(bin_res=0.25, variable='temp', statistic='mean')"
   ]
  },
  {
   "cell_type": "code",
   "execution_count": null,
   "metadata": {},
   "outputs": [],
   "source": [
    "# Creating a map of the binned mean depth of particles.\n",
    "traj.map_property(bin_res=0.25, variable='z', statistic='mean')"
   ]
  },
  {
   "cell_type": "code",
   "execution_count": null,
   "metadata": {},
   "outputs": [],
   "source": []
  }
 ],
 "metadata": {
  "kernelspec": {
   "display_name": "jlab_LMOC",
   "language": "python",
   "name": "jlab_lmoc"
  },
  "language_info": {
   "codemirror_mode": {
    "name": "ipython",
    "version": 3
   },
   "file_extension": ".py",
   "mimetype": "text/x-python",
   "name": "python",
   "nbconvert_exporter": "python",
   "pygments_lexer": "ipython3",
   "version": "3.10.12"
  }
 },
 "nbformat": 4,
 "nbformat_minor": 4
}
