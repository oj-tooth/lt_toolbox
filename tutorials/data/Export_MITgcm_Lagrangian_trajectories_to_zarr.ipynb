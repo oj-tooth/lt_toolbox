{
 "cells": [
  {
   "cell_type": "markdown",
   "metadata": {},
   "source": [
    "## **Tutorial:** Post-Processing MITgcm Lagrangian trajectories.\n",
    "### How to export MITgcm trajectories evaluated in the Irminger Sea from .mat files to .zarr files for use with the LT-Toolbox.\n",
    "\n",
    "### **Date Created:** 23 / 11 /2023\n",
    "### **Created By:** Ollie Tooth\n",
    "### **Contact:** oliver.tooth@seh.ox.ac.uk"
   ]
  },
  {
   "cell_type": "code",
   "execution_count": 1,
   "metadata": {},
   "outputs": [],
   "source": [
    "# Import relevnat python packages:\n",
    "import zarr\n",
    "import scipy.io\n",
    "import numpy as np\n",
    "import xarray as xr\n",
    "import matplotlib.pyplot as plt\n"
   ]
  },
  {
   "cell_type": "code",
   "execution_count": 2,
   "metadata": {},
   "outputs": [
    {
     "data": {
      "text/plain": [
       "<xarray.backends.zarr.ZarrStore at 0x7f6b5104eea0>"
      ]
     },
     "execution_count": 2,
     "metadata": {},
     "output_type": "execute_result"
    }
   ],
   "source": [
    "# Import MITgcm Lagrangian trajectories .mat file:\n",
    "filepath = '/home/snapdragon/HadGEM3-GC31-MM/Proj_Future_Pathways/src/Software/lt_toolbox/tutorials/data/particles_output_5km_1000m.mat'\n",
    "ds_mitgcm = scipy.io.loadmat(filepath)\n",
    "\n",
    "# Extract vartiable names from dictionary keys:\n",
    "vars = [key for key in ds_mitgcm.keys()]\n",
    "\n",
    "# Define dimension variable for NCEI Lagrangian trajectory format (traj x obs):\n",
    "# NOTE: This is standard output format of Ocean Parcels.\n",
    "obs = np.arange(ds_mitgcm['timee'].shape[1])\n",
    "n_obs = ds_mitgcm['timee'].shape[1] \n",
    "# NOTE: We could use any variable with dimensions (traj x obs) here:\n",
    "traj = np.arange(1, ds_mitgcm['f_lats'].shape[0] + 1)\n",
    "n_traj = ds_mitgcm['f_lats'].shape[0]\n",
    "\n",
    "\n",
    "# Construct xarray DataSet from ndarrays stored in .mat file:\n",
    "ds_traj = xr.Dataset(\n",
    "         data_vars=dict(\n",
    "         trajectory=([\"traj\", \"obs\"], np.tile(traj, (n_obs, 1)).T),\n",
    "         time=([\"traj\", \"obs\"], np.tile(ds_mitgcm['timee'][0, :], (n_traj, 1))),\n",
    "         lon=([\"traj\", \"obs\"], ds_mitgcm['f_lons']),\n",
    "         lat=([\"traj\", \"obs\"], ds_mitgcm['f_lats']),\n",
    "         z=([\"traj\", \"obs\"], ds_mitgcm['f_deps']),\n",
    "         temp=([\"traj\", \"obs\"], ds_mitgcm['f_TT']),\n",
    "         sal=([\"traj\", \"obs\"], ds_mitgcm['f_SS']),\n",
    "     ),\n",
    "     coords=dict(\n",
    "         traj=([\"traj\"], traj),\n",
    "         obs=([\"obs\"], obs),\n",
    "     ),\n",
    "     attrs=dict(description=\"Trial Irminger Current Lagrangian trajectories evaluated using MITgcm regional configuration at 2km horizontal resolution\"),\n",
    " )\n",
    "\n",
    "# --- Defining Attributes ---\n",
    "# Specifying variable attributes according to the NCEI_NetCDF_Trajectory_Template_v2.0.\n",
    "# See: https://www.nodc.noaa.gov/data/formats/netcdf/v2.0/trajectoryIncomplete.cdl\n",
    "\n",
    "# trajectory\n",
    "ds_traj.trajectory.attrs = {\n",
    "                            'long_name': \"water parcel ID\",\n",
    "                            'cf_role': \"trajectory_id\"\n",
    "                            }\n",
    "# time\n",
    "ds_traj.time.attrs = {\n",
    "                        'long_name': \"time since begining of the simulation\",\n",
    "                        'standard_name': \"time\",\n",
    "                        'unit': 'nanoseconds',\n",
    "                        'calendar': \"none\"\n",
    "                        }\n",
    "\n",
    "# lat\n",
    "ds_traj.lat.attrs = {\n",
    "                    'long_name': \"latitude\",\n",
    "                    'standard_name': \"latitude\",\n",
    "                    'units': \"degrees_north\"\n",
    "                    }\n",
    "# lon\n",
    "ds_traj.lon.attrs = {\n",
    "                    'long_name': \"longitude\",\n",
    "                    'standard_name': \"longitude\",\n",
    "                    'units': \"degrees_east\"\n",
    "                    }\n",
    "# z\n",
    "ds_traj.z.attrs = {\n",
    "                    'long_name': \"depth\",\n",
    "                    'standard_name': \"depth\",\n",
    "                    'units': \"meters\",\n",
    "                    }\n",
    "# NOTE: modify tracer attributes below as required.\n",
    "# temp\n",
    "ds_traj.temp.attrs = {\n",
    "                        'long_name': \"temperature\",\n",
    "                        'standard_name': \"temperature\",\n",
    "                        'units': \"C\"\n",
    "                        }\n",
    "# sal\n",
    "ds_traj.sal.attrs = {\n",
    "                    'long_name': \"salinity\",\n",
    "                    'standard_name': \"salinity\",\n",
    "                    'units': \"PSU\"\n",
    "                    }\n",
    "\n",
    "# --- Write trajectory DataSet to .zarr store ---\n",
    "# Define compressor:\n",
    "compressor = zarr.Blosc(cname=\"zstd\", clevel=3, shuffle=2)\n",
    "# Define encodings dictionary:\n",
    "enc = {var: {\"compressor\": compressor} for var in ds_traj}\n",
    "\n",
    "# Define output filepath:\n",
    "out_filedir = \"/home/snapdragon/HadGEM3-GC31-MM/Proj_Future_Pathways/src/Software/lt_toolbox/tutorials/data/\"\n",
    "out_filepath = \"MITgcm_2km_upper_1000m_example_traj.zarr\"\n",
    "\n",
    "# Write DataSet to .zarr store:\n",
    "ds_traj.to_zarr(out_filedir+out_filepath, encoding=enc)\n"
   ]
  },
  {
   "cell_type": "code",
   "execution_count": null,
   "metadata": {},
   "outputs": [],
   "source": []
  }
 ],
 "metadata": {
  "kernelspec": {
   "display_name": "jlab_LMOC",
   "language": "python",
   "name": "jlab_lmoc"
  },
  "language_info": {
   "codemirror_mode": {
    "name": "ipython",
    "version": 3
   },
   "file_extension": ".py",
   "mimetype": "text/x-python",
   "name": "python",
   "nbconvert_exporter": "python",
   "pygments_lexer": "ipython3",
   "version": "3.10.12"
  }
 },
 "nbformat": 4,
 "nbformat_minor": 2
}
