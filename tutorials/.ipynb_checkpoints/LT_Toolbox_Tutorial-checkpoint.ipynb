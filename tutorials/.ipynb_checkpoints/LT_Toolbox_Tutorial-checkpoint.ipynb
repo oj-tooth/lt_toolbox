{
 "cells": [
  {
   "cell_type": "markdown",
   "metadata": {},
   "source": [
    "# LT Toolbox Tutorial\n",
    "\n",
    "Welcome to the Lagrangian Trajectories Toolbox tutorial! \n",
    "\n",
    "The LT Toolbox is a python library dedicated to the post-processing, visualisation and analysis of Lagrangian water parcel trajectories. The toolbox makes use of [xarray](http://xarray.pydata.org/en/stable/#) multidimensional data arrays to store attribute variables associated with trajectories (e.g. lat, lon, in-situ temperature etc.).\n",
    "\n",
    "In this tutorial, we will show how to:\n",
    "\n",
    "+ **Store** the output of an example simulation of the [TRACMASS](https://tracmass.readthedocs.io/en/latest/) Lagrangian trajectory code in a trajectories object.\n",
    "\n",
    "+ **Add** new variables, such as particle IDs and seeding levels, to your dataset.\n",
    "\n",
    "+ **Filter** trajectories using any attribute variable contained in your dataset.\n",
    "\n",
    "+ **Get** existing features, including trajectory start/end times, start/end locations and durations.\n",
    "\n",
    "+ **Compute** metrics, such as distance travelled, particle displacements and the Lagrangian velocities from trajectories.\n",
    "\n",
    "+ **Plot** trajectory data in the form of time series, temperature-salinity diagrams and more.\n",
    "\n",
    "+ **Map** trajectories, properties and probability distributions onto the Earth's surface using [Cartopy](https://tracmass.readthedocs.io/en/latest/)."
   ]
  },
  {
   "cell_type": "markdown",
   "metadata": {},
   "source": [
    "## Getting Started\n",
    "\n",
    "Let us begin by importing the relevant packages we'll need to get started with the LT Toolbox. \n",
    "\n",
    "**Note**: Since lt_toolbox is still undergoing unit testing, the package is not yet available on PyPi, hence we use a local development version."
   ]
  },
  {
   "cell_type": "code",
   "execution_count": null,
   "metadata": {},
   "outputs": [],
   "source": [
    "import xarray as xr\n",
    "import numpy as np\n",
    "import matplotlib.pyplot as plt\n",
    "\n",
    "# Navigating to the local development version of lt_toolbox.\n",
    "%cd /Users/ollietooth/Desktop/D.Phil./lt_toolbox/\n",
    "\n",
    "from lt_toolbox.trajectories import trajectories"
   ]
  },
  {
   "cell_type": "markdown",
   "metadata": {},
   "source": [
    "### Storing Trajectory Data\n",
    "\n",
    "To explore the functionality of the LT Toolbox, we will use output from the example NEMO ORCA1 (3D) simulation contained in the TRACMASS [documentation](https://tracmass.readthedocs.io/en/latest/Examples.html). \n",
    "\n",
    "The simulation uses monthly mean velocity fields (24 months continuously looped over to generate a 200 year simulation) and releases particles southward from \\~68 N for the first 24 months (seeding levels). Particles are terminated on reaching the equator or on re-encountering the seeding plane (\\~ 68 N). The maximum lifetime for trajectories in the simulation is 200 years.\n",
    "\n",
    "TRACMASS outputs trajectories in .csv files, so we first used the export_tracmass_to_nc.py file to reformat the output data into a .nc file conforming to the standard NCEI trajectory [template](https://www.nodc.noaa.gov/data/formats/netcdf/v2.0/trajectoryIncomplete.cdl).\n",
    "\n",
    "Below we load the resulting .nc file as a DataSet with xarray, before creating a trajectories object, traj."
   ]
  },
  {
   "cell_type": "code",
   "execution_count": null,
   "metadata": {},
   "outputs": [],
   "source": [
    "# Navigate to the directory where the ORCA1 output data is stored.\n",
    "%cd /Users/ollietooth/Desktop/D.Phil./lt_toolbox/lt_toolbox/\n",
    "\n",
    "# Open output .nc file as a DataSet.\n",
    "dataset = xr.open_dataset('ORCA1-N406_TRACMASS_complete.nc')\n",
    "\n",
    "# Create a trajectories object from the DataSet.\n",
    "traj = trajectories(dataset)"
   ]
  },
  {
   "cell_type": "markdown",
   "metadata": {},
   "source": [
    "**What is a trajectories object?**\n",
    "\n",
    "The trajectories object, traj, hosts the original xarray DataSet accessible as an attribute with traj.data. \n",
    "\n",
    "For improved functionality, attribute variables (data variables stored in our DataSet) are made accessible with traj.{variable} to access a given {variable}.\n",
    "\n",
    "The true value of a trajectories object comes with the use of the built-in functions specifically designed for post-processing, visualisation and analysis of Lagrangain water parcel trajectories."
   ]
  },
  {
   "cell_type": "markdown",
   "metadata": {},
   "source": [
    "### Exploring our trajectories object\n",
    "\n",
    "By accessing the .data attribute of our trajectories object above, we can see that attribute variables are formatted with dimensions **traj** (trajectory) and **obs** (observation - represents one time-level).\n",
    "\n",
    "**Note**: Since trajectories are of differing lengths, missing **obs** values for a given **traj** are filled as NaNs or NaTs (time)."
   ]
  },
  {
   "cell_type": "code",
   "execution_count": null,
   "metadata": {},
   "outputs": [],
   "source": [
    "# To return details of our original DataSet.\n",
    "print(traj.data)\n",
    "\n",
    "# To access the temp attribute variable.\n",
    "print(traj.temp)\n",
    "\n",
    "# Using datetime64 format for time instead of timedelta64.\n",
    "# Start date of simulation is 2000-01-01\n",
    "traj = traj.use_datetime('2000-01-01')"
   ]
  },
  {
   "cell_type": "markdown",
   "metadata": {},
   "source": [
    "### Adding new attribute variables to our trajectories object.\n",
    "\n",
    "To add a new attribute variable to a trajectories object, including appending it to the original DataSet, use the **.add_variable()** method. \n",
    "\n",
    "Two common attribute variables which a user may wish to add to their trajectories object, a unique trajectory id and the seeding level when a particles are released are included as seperate methods: **.add_id()** and **.add_seed()**."
   ]
  },
  {
   "cell_type": "code",
   "execution_count": null,
   "metadata": {},
   "outputs": [],
   "source": [
    "# Suppose we would like to add the id and seeding level of all of our\n",
    "# particles for future analysis. \n",
    "\n",
    "# We can combine methods on a single line to return both.\n",
    "traj = traj.add_id().add_seed()\n",
    "\n",
    "# Let's look at our new attribute variables.\n",
    "print(traj.id)\n",
    "print(traj.seed_level)"
   ]
  },
  {
   "cell_type": "code",
   "execution_count": null,
   "metadata": {},
   "outputs": [],
   "source": [
    "# Consider now if we wanted to create a new attribute variable, temp_K,\n",
    "# to store the in-situ temperature in Kelvin. \n",
    "\n",
    "# Using .values to access the numpy array storing the values of temp.\n",
    "temp_k = traj.temp.values + 273.15\n",
    "\n",
    "# Dictionary of attributes of our new variable.\n",
    "attrs = {'long_name': 'in-situ temperature in Kelvin',\n",
    "         'standard_name': 'temp_K',\n",
    "         'units': 'Kelvin'\n",
    "        }\n",
    "\n",
    "# Add temp_k as a new attribute variable to our trajectories object.\n",
    "traj = traj.add_variable(temp_k, attrs)\n",
    "\n",
    "# Let's see if temp_K has been added!\n",
    "print(traj.temp_K)"
   ]
  },
  {
   "cell_type": "markdown",
   "metadata": {},
   "source": [
    "### Filtering trajectories using an attribute variable.\n",
    "\n",
    "Filtering our trajectories to include only those complete trajectories where a specific criteria is met is integral to Lagrangian analysis. \n",
    "\n",
    "The LT Toolbox includes two fully vectorised methods **.filter_between()** and **filter_equal()** to allow users to filter on any attribute variable conatined in their trajectories object."
   ]
  },
  {
   "cell_type": "code",
   "execution_count": null,
   "metadata": {},
   "outputs": [],
   "source": [
    "# Filtering all our trajectories to include only those released in \n",
    "# seeding level 1 and storing as a new trajectories object, traj_seed1.\n",
    "traj_seed1 = traj.filter_equal('seed_level', 1, drop=False)\n",
    "\n",
    "# Let's look at the data in traj_seed1 - only 864 particles were\n",
    "# released in seeding level 1.\n",
    "print(traj_seed1.data)"
   ]
  },
  {
   "cell_type": "code",
   "execution_count": null,
   "metadata": {},
   "outputs": [],
   "source": [
    "# Filtering all our trajectories to include only those which travel \n",
    "# between 0 N - 25 N and storing as a new trajectories object, \n",
    "# traj_sublat.\n",
    "traj_sublat = traj.filter_between('lat', 0, 25, drop=False)\n",
    "\n",
    "# Let's look at the data in traj_sublat - only 560 particles were\n",
    "# found between 0-25 N at any time during their trajectories.\n",
    "print(traj_sublat.data)"
   ]
  },
  {
   "cell_type": "markdown",
   "metadata": {},
   "source": [
    "### Filtering trajectories by time - A Special Case\n",
    "\n",
    "It should be noted that when filter methods are called with a time attribute variable, rather than return complete trajectories, only the observations (**obs**) meeting the specified criteria are returned. "
   ]
  },
  {
   "cell_type": "code",
   "execution_count": null,
   "metadata": {},
   "outputs": [],
   "source": [
    "# Defining the min and maximum time levels to return obs for.\n",
    "tmin = np.datetime64('2000-01-31')\n",
    "tmax = np.datetime64('2000-03-31')\n",
    "\n",
    "# Filtering between tmin and tmax, the values tmin and tmax are\n",
    "# included, and storing as a new trajectories object, traj_subtime.\n",
    "traj_subtime = traj.filter_between('time', tmin, tmax, drop=False)\n",
    "\n",
    "# Let's look at the data in traj_subtime - only 4 (116) obs are \n",
    "# included as expected.\n",
    "print(traj_subtime.data.time)"
   ]
  },
  {
   "cell_type": "code",
   "execution_count": null,
   "metadata": {},
   "outputs": [],
   "source": [
    "# Defining the time level to return obs for.\n",
    "tval = [np.datetime64('2000-01-31'), np.datetime64('2000-03-31')]\n",
    "\n",
    "# Filtering tval and storing as a new trajectories object,\n",
    "# traj_subtime.\n",
    "traj_subtime = traj.filter_equal('time', tval, drop=False)\n",
    "\n",
    "# Let's look at the data in traj_subtime - only 1 (119) obs is \n",
    "# included as expected.\n",
    "print(traj_subtime.data.time)"
   ]
  },
  {
   "cell_type": "markdown",
   "metadata": {},
   "source": [
    "### Finding indices of trajectory points.\n",
    "\n",
    "Often we would like to find the indices of the elements stored in a trajectories object meeting a specific condition. Here, we can use the __.find_between()__ and __.find_equal()__ methods. Both find methods return a tuple of arrays containing the indices for satisfactory trajectory points. "
   ]
  },
  {
   "cell_type": "code",
   "execution_count": null,
   "metadata": {},
   "outputs": [],
   "source": [
    "# Finding trajectory points where a particle is found between\n",
    "# 0 N - 25 N and storing indices in ind_between.\n",
    "ind_between = traj.find_between('lat', 0, 25)\n",
    "\n",
    "# Let's look at the indices returned in ind_between.\n",
    "print(ind_between)\n",
    "# To access only the rows in ind_between.\n",
    "print(ind_between[0])\n",
    "# To access only the cols in ind_between.\n",
    "print(ind_between[1])"
   ]
  },
  {
   "cell_type": "code",
   "execution_count": null,
   "metadata": {},
   "outputs": [],
   "source": [
    "# Finding trajectory points where the in-situ temperature is -1.75C.\n",
    "ind_equal = traj.find_equal('temp', -1.75)\n",
    "\n",
    "# Let's look at the indices returned in ind_equal.\n",
    "print(ind_equal)\n"
   ]
  },
  {
   "cell_type": "markdown",
   "metadata": {},
   "source": [
    "### Filtering trajectories which intersect a polygon."
   ]
  },
  {
   "cell_type": "code",
   "execution_count": null,
   "metadata": {
    "scrolled": true
   },
   "outputs": [],
   "source": [
    "# Defining square as a list of (Lat, Lon) tuples storing the coordinates\n",
    "# of the polygon boundary.\n",
    "square = [(-60, 30), (-60, 35), (-30, 35), (-30, 30), (-60, 30)]\n",
    "\n",
    "# Filtering all our trajectories to include only those which, at some \n",
    "# point in their life time intersect a simple polygon, square.\n",
    "traj_poly = traj.filter_polygon(square, drop=False)\n",
    "\n",
    "# Let's look at the resulting trajectories object- only \n",
    "traj_poly.data"
   ]
  },
  {
   "cell_type": "code",
   "execution_count": null,
   "metadata": {},
   "outputs": [],
   "source": [
    "traj_poly.map_trajectories()"
   ]
  },
  {
   "cell_type": "code",
   "execution_count": null,
   "metadata": {},
   "outputs": [],
   "source": [
    "gyre = [(-49.18793315042404, 49.37148882530159),\n",
    " (-49.275469433082314, 49.43215205088787),\n",
    " (-50.00795586557467, 50.058576143094065),\n",
    " (-50.335438857887105, 50.695280702079835),\n",
    " (-49.98634752455879, 51.36018578972914),\n",
    " (-50.19395526407288, 51.98948919296186),\n",
    " (-50.631701011905854, 52.493813505944495),\n",
    " (-50.711419864117026, 52.593243461234195),\n",
    " (-51.16822140057796, 53.19146845089379),\n",
    " (-51.6922368561796, 53.77695617096755),\n",
    " (-51.983008239776524, 54.16813087692975),\n",
    " (-52.102457561228206, 54.36175109357048),\n",
    " (-52.489345618220156, 54.94019082958548),\n",
    " (-53.20004682994474, 55.48590341847862),\n",
    " (-53.34872258528833, 55.53860303461335),\n",
    " (-54.48789345392174, 55.8379475971598),\n",
    " (-54.98796533202402, 55.92980893454198),\n",
    " (-55.626519172130585, 56.11309398525799),\n",
    " (-56.31780457232678, 56.39397572889523),\n",
    " (-56.83936495649369, 56.92062432874726),\n",
    " (-57.094096296733284, 57.38902497596455),\n",
    " (-57.1321888637855, 57.462285954152314),\n",
    " (-57.43281968760989, 57.99712553730837),\n",
    " (-57.680056572261826, 58.53219225487974),\n",
    " (-57.59389767812843, 58.7260829837521),\n",
    " (-57.436889250581046, 59.11676685743855),\n",
    " (-57.22591274889733, 59.696148907093885),\n",
    " (-57.02825751152389, 59.96825178911662),\n",
    " (-56.70103537069889, 60.30988240912289),\n",
    " (-56.242905779796494, 60.67733080786191),\n",
    " (-55.678645544221496, 60.98043022142082),\n",
    " (-55.341776256386694, 61.14905386407092),\n",
    " (-54.3206097975048, 61.38712955620498),\n",
    " (-53.18727775311204, 61.254592720447214),\n",
    " (-53.10983287602104, 61.24062399721527),\n",
    " (-52.191437102078, 60.79402894233779),\n",
    " (-51.67794864685563, 60.54294281130052),\n",
    " (-51.290911075265704, 60.31406253107381),\n",
    " (-50.35241830926855, 60.02092716615897),\n",
    " (-49.88216690132292, 59.869154694101155),\n",
    " (-49.124194123357825, 59.71305076336961),\n",
    " (-47.93520999299349, 59.49856623028676),\n",
    " (-47.81473220840865, 59.46136145552445),\n",
    " (-46.696037896968605, 59.078860280415725),\n",
    " (-46.38872350853443, 58.98113662530336),\n",
    " (-45.492732595506226, 58.73616954386235),\n",
    " (-44.33998664687051, 58.56589518501265),\n",
    " (-43.379176313292184, 58.58570436240879),\n",
    " (-43.233914380709685, 58.585920602008066),\n",
    " (-43.196069162091895, 58.59696717959333),\n",
    " (-42.18025377128016, 58.85679969291908),\n",
    " (-41.58708455752802, 59.29153588776968),\n",
    " (-41.21024822126378, 59.56003190563298),\n",
    " (-40.848245742632294, 59.93140451202753),\n",
    " (-40.40468359364143, 60.55156615119484),\n",
    " (-40.32652243799484, 60.6958152154089),\n",
    " (-40.04188400081667, 61.16319076642644),\n",
    " (-39.44223936157312, 61.785338531536816),\n",
    " (-39.42887976152584, 61.80467680498693),\n",
    " (-38.79413924302179, 62.40548346278733),\n",
    " (-38.46932229830463, 62.703301412027315),\n",
    " (-37.3046115054549, 62.82923675944813),\n",
    " (-36.141561210793675, 62.996258797049826),\n",
    " (-35.880477622478956, 63.12954215728223),\n",
    " (-35.067944993757656, 63.65608405348971),\n",
    " (-34.903521885551164, 63.75265752491198),\n",
    " (-33.99132068700152, 64.36809402266877),\n",
    " (-33.98189302696528, 64.37289562611323),\n",
    " (-32.817658028215206, 64.80418882718081),\n",
    " (-31.557243082790663, 64.76001996469027),\n",
    " (-30.526959356108364, 64.47081458740207),\n",
    " (-30.616257513117873, 63.88565126507274),\n",
    " (-30.14740707299951, 63.347896455773075),\n",
    " (-30.118251564217434, 63.31022318521),\n",
    " (-29.289516203558748, 62.73380214774353),\n",
    " (-28.849715925529924, 62.14618554310911),\n",
    " (-29.028731974002085, 61.54477201852938),\n",
    " (-29.340817253436065, 60.93777855729818),\n",
    " (-29.53839493487044, 60.328677631290844),\n",
    " (-29.680366815866627, 59.716302201368954),\n",
    " (-29.734626756481703, 59.100762993626404),\n",
    " (-28.710089814832166, 58.49284122275449),\n",
    " (-28.678732713363488, 58.4867755217991),\n",
    " (-28.624052891527302, 58.49358462582592),\n",
    " (-27.555670532386884, 58.60507364478248),\n",
    " (-26.428866194546778, 58.89443988901282),\n",
    " (-25.731894053295463, 59.12552401560117),\n",
    " (-25.291721500988217, 59.23055769645329),\n",
    " (-24.149263389734465, 59.32691582230174),\n",
    " (-23.756639803596517, 59.11605317857499),\n",
    " (-24.04688351773074, 58.49671037062973),\n",
    " (-24.174421978687608, 58.37700094682521),\n",
    " (-24.828593989880183, 57.87486785564269),\n",
    " (-25.26665590551473, 57.24617779821686),\n",
    " (-25.316173967533217, 57.093485874659834),\n",
    " (-25.542603614920406, 56.610998787051486),\n",
    " (-25.418079098337667, 55.969878907463254),\n",
    " (-25.332211988386174, 55.81689974940193),\n",
    " (-25.11791803613761, 55.322344464098826),\n",
    " (-24.917299185793038, 54.6697530751274),\n",
    " (-24.777834011370143, 54.012110497982405),\n",
    " (-24.29435577406788, 53.421688289997256),\n",
    " (-24.21300396659137, 53.346096232009096),\n",
    " (-23.24357161136188, 52.81242503378361),\n",
    " (-22.751634855724358, 52.66328089601694),\n",
    " (-23.260192087829097, 52.22999547399475),\n",
    " (-24.286561697622634, 52.005031767605736),\n",
    " (-24.323682594970272, 52.003496820228555),\n",
    " (-25.380518120918513, 51.99221655487873),\n",
    " (-26.43695351980536, 51.94040787360937),\n",
    " (-27.49179157106095, 51.74234373983071),\n",
    " (-28.54179549268257, 51.392782680446096),\n",
    " (-28.764955835401096, 51.33252056228011),\n",
    " (-29.588525505897806, 51.154701474583376),\n",
    " (-30.63212529773817, 50.93547035637876),\n",
    " (-31.66986110880074, 50.627379407871786),\n",
    " (-31.674089037475223, 50.62631020115626),\n",
    " (-32.70606914864116, 50.382887388983065),\n",
    " (-33.74104046995109, 50.19525759230372),\n",
    " (-34.77661171192747, 50.083418416643504),\n",
    " (-35.810915534439594, 49.98231779645589),\n",
    " (-36.802450792791994, 49.85468500901584),\n",
    " (-36.84191301206452, 49.85084609089136),\n",
    " (-37.05665411958276, 49.84898399861653),\n",
    " (-37.878404403469666, 49.84471101993706),\n",
    " (-38.92335560278249, 49.977812883848316),\n",
    " (-39.97151868732625, 50.145423915480066),\n",
    " (-41.02283950037077, 50.34091801515501),\n",
    " (-41.35640187346218, 50.41280567210431),\n",
    " (-42.0805080012338, 50.58317307566706),\n",
    " (-43.13287542866825, 50.742863404725995),\n",
    " (-44.15935013842356, 50.62873074550883),\n",
    " (-44.78237949496997, 50.289240633766845),\n",
    " (-45.14139508464764, 50.08470381214242),\n",
    " (-45.921965928930184, 49.57373317125538),\n",
    " (-46.11678850006203, 49.49998208963915),\n",
    " (-47.114239328708294, 49.166936268388376),\n",
    " (-48.13031146568329, 49.0570941287976),\n",
    " (-49.187933150424044, 49.37148882530159)]\n",
    "\n",
    "\n",
    "# Filtering all our trajectories to include only those which, at some \n",
    "# point in their life time intersect a gyre.\n",
    "traj_gyre = traj.filter_polygon(gyre, drop=True)\n",
    "\n",
    "# Let's look at the resulting trajectories object.\n",
    "traj_gyre.data"
   ]
  },
  {
   "cell_type": "code",
   "execution_count": null,
   "metadata": {
    "scrolled": true
   },
   "outputs": [],
   "source": [
    "# Let's look at the resulting trajectories object- only \n",
    "traj_gyre.filter_equal('seed_level', 1).map_trajectories()"
   ]
  },
  {
   "cell_type": "markdown",
   "metadata": {},
   "source": [
    "### Finding trajectory points that intersect a polygon."
   ]
  },
  {
   "cell_type": "code",
   "execution_count": null,
   "metadata": {},
   "outputs": [],
   "source": [
    "# Finding trajectory points which intersect a simple polygon, square.\n",
    "ind_poly = traj.find_polygon(square)\n",
    "\n",
    "# Let's look at the resulting indices returned in ind_poly.\n",
    "ind_poly"
   ]
  },
  {
   "cell_type": "markdown",
   "metadata": {},
   "source": [
    "### Getting existing features from a trajectories object.\n",
    "\n",
    "The LT Toolbox includes a range of .get_ methods to extract important features from existing attribute variables in a trajectories object. "
   ]
  },
  {
   "cell_type": "code",
   "execution_count": null,
   "metadata": {},
   "outputs": [],
   "source": [
    "# Get the times and locations when particle are released. \n",
    "traj = traj.get_start_time().get_start_loc()\n",
    "\n",
    "# Get the times and locations when particles are terminated.\n",
    "traj = traj.get_end_time().get_end_loc()\n"
   ]
  },
  {
   "cell_type": "code",
   "execution_count": null,
   "metadata": {},
   "outputs": [],
   "source": [
    "# Get the maximum value of the temp variable for each trajectory. \n",
    "traj = traj.get_max('temp')\n",
    "\n",
    "# Get the minimum value of the temp variable for each trajectory. \n",
    "traj = traj.get_min('temp')\n",
    "\n",
    "# Get the value of the temp variable for each trajectory on 2000-01-01. \n",
    "traj = traj.get_value('temp', '2000-01-01')\n"
   ]
  },
  {
   "cell_type": "code",
   "execution_count": null,
   "metadata": {},
   "outputs": [],
   "source": [
    "# Get the duration of each trajectory, t_total. \n",
    "traj = traj.get_duration()\n",
    "\n",
    "# Let's look at the data in traj.\n",
    "print(traj.data)"
   ]
  },
  {
   "cell_type": "markdown",
   "metadata": {},
   "source": [
    "### Computing diagnostic metrics for trajectories.\n",
    "\n",
    "Computation is a further important feature of the toolbox.\n",
    "\n",
    "In particular, there are .compute methods available to compute the distance travelled by particles along their trajectories, particle displacements (zonal/meridional/vertical) and Lagrangian velocities (zonal/meridional/vertical).\n",
    "\n",
    "Below we show how to combine **filter**, **compute** and **plot** methods to efficiently generate visualisations of output data."
   ]
  },
  {
   "cell_type": "code",
   "execution_count": null,
   "metadata": {},
   "outputs": [],
   "source": [
    "# Creating a time series plot of the meridional displacement travelled \n",
    "# by the first 10 particles in our ORCA1 output data.\n",
    "traj.filter_between('id', 0, 9).compute_dy().plot_timeseries('dy')"
   ]
  },
  {
   "cell_type": "code",
   "execution_count": null,
   "metadata": {},
   "outputs": [],
   "source": [
    "# Creating a time series plot of the meridional velocity travelled by \n",
    "# the first 10 particles in our ORCA1 output data.\n",
    "traj.filter_between('id', 0, 9).compute_v().plot_timeseries('v')"
   ]
  },
  {
   "cell_type": "markdown",
   "metadata": {},
   "source": [
    "### Computing Lagrangian probability distribtuions."
   ]
  },
  {
   "cell_type": "code",
   "execution_count": null,
   "metadata": {},
   "outputs": [],
   "source": [
    "# Computing Lagrangian probability distribution for all trajectories\n",
    "# released in seed_level 1 using 1x1 degree bins.\n",
    "traj_prob = traj.filter_equal('seed_level', 1).compute_probability(bin_res=1, method='traj')"
   ]
  },
  {
   "cell_type": "code",
   "execution_count": null,
   "metadata": {},
   "outputs": [],
   "source": [
    "# Computing Lagrangian probability distribution for all trajectories\n",
    "# released in seed_levels 1 to 3 using 1x1 degree bins. \n",
    "traj_probs = traj.filter_between('seed_level', 1, 3).compute_probability(bin_res=1, method='pos', group_by='seed_level')\n",
    "\n",
    "# Here the group_by function ensures that three seperate probability\n",
    "# distributions are computed."
   ]
  },
  {
   "cell_type": "markdown",
   "metadata": {},
   "source": [
    "### Further plotting of seawater properties.\n",
    "\n",
    "Another useful plot for examining the water mass properties of a given trajectory is the temperature-salinity (t-s) diagram. \n",
    "\n",
    "We can very easily produce a t-s diagram with the LT Toolbox using the **.plot_ts_diagram** method."
   ]
  },
  {
   "cell_type": "code",
   "execution_count": null,
   "metadata": {},
   "outputs": [],
   "source": [
    "# Creating a t-s plot for the particles released between 2000-4000m\n",
    "# in seeding level 1 and colouring by the particle longitude of \n",
    "# release.\n",
    "traj.filter_equal('seed_level', 1).filter_between('z', -4000, -2000).plot_ts_diagram(col_variable='lon')"
   ]
  },
  {
   "cell_type": "code",
   "execution_count": null,
   "metadata": {},
   "outputs": [],
   "source": [
    "# Plotting temperature of the particles released at the\n",
    "# first seeding level on 2000-03-01 (3rd time level).\n",
    "traj.plot_variable('temp', 'xz', 1, '2000-03-01')"
   ]
  },
  {
   "cell_type": "markdown",
   "metadata": {},
   "source": [
    "### Mapping trajectories and probability distributions with Cartopy.\n",
    "\n",
    "The LT Toolbox utilises the highly adaptable Cartopy geospatial visualisation package to map trajectories and their properties on the Earth's surface. \n",
    "\n",
    "Below we show how to use **.map_trajectories**, **.map_probability()** and **.map_property()** methods when anaysing trajectory output data."
   ]
  },
  {
   "cell_type": "code",
   "execution_count": null,
   "metadata": {},
   "outputs": [],
   "source": [
    "# Creating a map of trajectories released during the first seeding \n",
    "# levels (Jan - March).\n",
    "traj.filter_equal('seed_level', 2).map_trajectories()"
   ]
  },
  {
   "cell_type": "code",
   "execution_count": null,
   "metadata": {},
   "outputs": [],
   "source": [
    "# Creating a map of the trajectories of the first 20 particles released,\n",
    "# coloured by the in-situ temperature.\n",
    "traj.filter_between('id', 0, 10).map_trajectories(col_variable='temp')"
   ]
  },
  {
   "cell_type": "code",
   "execution_count": null,
   "metadata": {},
   "outputs": [],
   "source": [
    "# Creating a map of the binned probability of particle pathways.\n",
    "traj.map_probability(bin_res=1, prob_type='traj', cmap='viridis')"
   ]
  },
  {
   "cell_type": "code",
   "execution_count": null,
   "metadata": {},
   "outputs": [],
   "source": [
    "# Creating a map of the binned probability of particle positions.\n",
    "traj.map_probability(bin_res=1, prob_type='pos', cmap='viridis')"
   ]
  },
  {
   "cell_type": "code",
   "execution_count": null,
   "metadata": {},
   "outputs": [],
   "source": [
    "# Creating a map of the binned mean temperature of particles.\n",
    "traj.map_property(bin_res=1, variable='temp', statistic='mean')"
   ]
  },
  {
   "cell_type": "code",
   "execution_count": null,
   "metadata": {},
   "outputs": [],
   "source": []
  }
 ],
 "metadata": {
  "kernelspec": {
   "display_name": "Tracmass",
   "language": "python",
   "name": "tracmass"
  },
  "language_info": {
   "codemirror_mode": {
    "name": "ipython",
    "version": 3
   },
   "file_extension": ".py",
   "mimetype": "text/x-python",
   "name": "python",
   "nbconvert_exporter": "python",
   "pygments_lexer": "ipython3",
   "version": "3.8.6"
  }
 },
 "nbformat": 4,
 "nbformat_minor": 4
}
